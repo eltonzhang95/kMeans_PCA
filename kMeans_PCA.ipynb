{
  "nbformat": 4,
  "nbformat_minor": 0,
  "metadata": {
    "colab": {
      "name": "ECE1513_Final_Exam.ipynb",
      "provenance": [],
      "collapsed_sections": []
    },
    "kernelspec": {
      "name": "python3",
      "display_name": "Python 3"
    }
  },
  "cells": [
    {
      "cell_type": "markdown",
      "metadata": {
        "id": "_9fmSFaHqo1C",
        "colab_type": "text"
      },
      "source": [
        "# Ziqi Zhang 1001374684"
      ]
    },
    {
      "cell_type": "code",
      "metadata": {
        "id": "Hqlh3X-uzWaZ",
        "colab_type": "code",
        "colab": {}
      },
      "source": [
        "import numpy as np\n",
        "import pandas as pd\n",
        "import matplotlib.pyplot as plt\n",
        "from sklearn.datasets import load_breast_cancer\n",
        "from numpy.linalg import svd"
      ],
      "execution_count": 0,
      "outputs": []
    },
    {
      "cell_type": "code",
      "metadata": {
        "id": "YTsJxrT-znGM",
        "colab_type": "code",
        "outputId": "7514c106-d6e9-4be4-ad9a-7f14490dede9",
        "colab": {
          "base_uri": "https://localhost:8080/",
          "height": 249
        }
      },
      "source": [
        "# import data\n",
        "data = load_breast_cancer()\n",
        "df = pd.DataFrame(data = data.data, columns=data.feature_names)\n",
        "df.head()"
      ],
      "execution_count": 0,
      "outputs": [
        {
          "output_type": "execute_result",
          "data": {
            "text/html": [
              "<div>\n",
              "<style scoped>\n",
              "    .dataframe tbody tr th:only-of-type {\n",
              "        vertical-align: middle;\n",
              "    }\n",
              "\n",
              "    .dataframe tbody tr th {\n",
              "        vertical-align: top;\n",
              "    }\n",
              "\n",
              "    .dataframe thead th {\n",
              "        text-align: right;\n",
              "    }\n",
              "</style>\n",
              "<table border=\"1\" class=\"dataframe\">\n",
              "  <thead>\n",
              "    <tr style=\"text-align: right;\">\n",
              "      <th></th>\n",
              "      <th>mean radius</th>\n",
              "      <th>mean texture</th>\n",
              "      <th>mean perimeter</th>\n",
              "      <th>mean area</th>\n",
              "      <th>mean smoothness</th>\n",
              "      <th>mean compactness</th>\n",
              "      <th>mean concavity</th>\n",
              "      <th>mean concave points</th>\n",
              "      <th>mean symmetry</th>\n",
              "      <th>mean fractal dimension</th>\n",
              "      <th>radius error</th>\n",
              "      <th>texture error</th>\n",
              "      <th>perimeter error</th>\n",
              "      <th>area error</th>\n",
              "      <th>smoothness error</th>\n",
              "      <th>compactness error</th>\n",
              "      <th>concavity error</th>\n",
              "      <th>concave points error</th>\n",
              "      <th>symmetry error</th>\n",
              "      <th>fractal dimension error</th>\n",
              "      <th>worst radius</th>\n",
              "      <th>worst texture</th>\n",
              "      <th>worst perimeter</th>\n",
              "      <th>worst area</th>\n",
              "      <th>worst smoothness</th>\n",
              "      <th>worst compactness</th>\n",
              "      <th>worst concavity</th>\n",
              "      <th>worst concave points</th>\n",
              "      <th>worst symmetry</th>\n",
              "      <th>worst fractal dimension</th>\n",
              "    </tr>\n",
              "  </thead>\n",
              "  <tbody>\n",
              "    <tr>\n",
              "      <th>0</th>\n",
              "      <td>17.99</td>\n",
              "      <td>10.38</td>\n",
              "      <td>122.80</td>\n",
              "      <td>1001.0</td>\n",
              "      <td>0.11840</td>\n",
              "      <td>0.27760</td>\n",
              "      <td>0.3001</td>\n",
              "      <td>0.14710</td>\n",
              "      <td>0.2419</td>\n",
              "      <td>0.07871</td>\n",
              "      <td>1.0950</td>\n",
              "      <td>0.9053</td>\n",
              "      <td>8.589</td>\n",
              "      <td>153.40</td>\n",
              "      <td>0.006399</td>\n",
              "      <td>0.04904</td>\n",
              "      <td>0.05373</td>\n",
              "      <td>0.01587</td>\n",
              "      <td>0.03003</td>\n",
              "      <td>0.006193</td>\n",
              "      <td>25.38</td>\n",
              "      <td>17.33</td>\n",
              "      <td>184.60</td>\n",
              "      <td>2019.0</td>\n",
              "      <td>0.1622</td>\n",
              "      <td>0.6656</td>\n",
              "      <td>0.7119</td>\n",
              "      <td>0.2654</td>\n",
              "      <td>0.4601</td>\n",
              "      <td>0.11890</td>\n",
              "    </tr>\n",
              "    <tr>\n",
              "      <th>1</th>\n",
              "      <td>20.57</td>\n",
              "      <td>17.77</td>\n",
              "      <td>132.90</td>\n",
              "      <td>1326.0</td>\n",
              "      <td>0.08474</td>\n",
              "      <td>0.07864</td>\n",
              "      <td>0.0869</td>\n",
              "      <td>0.07017</td>\n",
              "      <td>0.1812</td>\n",
              "      <td>0.05667</td>\n",
              "      <td>0.5435</td>\n",
              "      <td>0.7339</td>\n",
              "      <td>3.398</td>\n",
              "      <td>74.08</td>\n",
              "      <td>0.005225</td>\n",
              "      <td>0.01308</td>\n",
              "      <td>0.01860</td>\n",
              "      <td>0.01340</td>\n",
              "      <td>0.01389</td>\n",
              "      <td>0.003532</td>\n",
              "      <td>24.99</td>\n",
              "      <td>23.41</td>\n",
              "      <td>158.80</td>\n",
              "      <td>1956.0</td>\n",
              "      <td>0.1238</td>\n",
              "      <td>0.1866</td>\n",
              "      <td>0.2416</td>\n",
              "      <td>0.1860</td>\n",
              "      <td>0.2750</td>\n",
              "      <td>0.08902</td>\n",
              "    </tr>\n",
              "    <tr>\n",
              "      <th>2</th>\n",
              "      <td>19.69</td>\n",
              "      <td>21.25</td>\n",
              "      <td>130.00</td>\n",
              "      <td>1203.0</td>\n",
              "      <td>0.10960</td>\n",
              "      <td>0.15990</td>\n",
              "      <td>0.1974</td>\n",
              "      <td>0.12790</td>\n",
              "      <td>0.2069</td>\n",
              "      <td>0.05999</td>\n",
              "      <td>0.7456</td>\n",
              "      <td>0.7869</td>\n",
              "      <td>4.585</td>\n",
              "      <td>94.03</td>\n",
              "      <td>0.006150</td>\n",
              "      <td>0.04006</td>\n",
              "      <td>0.03832</td>\n",
              "      <td>0.02058</td>\n",
              "      <td>0.02250</td>\n",
              "      <td>0.004571</td>\n",
              "      <td>23.57</td>\n",
              "      <td>25.53</td>\n",
              "      <td>152.50</td>\n",
              "      <td>1709.0</td>\n",
              "      <td>0.1444</td>\n",
              "      <td>0.4245</td>\n",
              "      <td>0.4504</td>\n",
              "      <td>0.2430</td>\n",
              "      <td>0.3613</td>\n",
              "      <td>0.08758</td>\n",
              "    </tr>\n",
              "    <tr>\n",
              "      <th>3</th>\n",
              "      <td>11.42</td>\n",
              "      <td>20.38</td>\n",
              "      <td>77.58</td>\n",
              "      <td>386.1</td>\n",
              "      <td>0.14250</td>\n",
              "      <td>0.28390</td>\n",
              "      <td>0.2414</td>\n",
              "      <td>0.10520</td>\n",
              "      <td>0.2597</td>\n",
              "      <td>0.09744</td>\n",
              "      <td>0.4956</td>\n",
              "      <td>1.1560</td>\n",
              "      <td>3.445</td>\n",
              "      <td>27.23</td>\n",
              "      <td>0.009110</td>\n",
              "      <td>0.07458</td>\n",
              "      <td>0.05661</td>\n",
              "      <td>0.01867</td>\n",
              "      <td>0.05963</td>\n",
              "      <td>0.009208</td>\n",
              "      <td>14.91</td>\n",
              "      <td>26.50</td>\n",
              "      <td>98.87</td>\n",
              "      <td>567.7</td>\n",
              "      <td>0.2098</td>\n",
              "      <td>0.8663</td>\n",
              "      <td>0.6869</td>\n",
              "      <td>0.2575</td>\n",
              "      <td>0.6638</td>\n",
              "      <td>0.17300</td>\n",
              "    </tr>\n",
              "    <tr>\n",
              "      <th>4</th>\n",
              "      <td>20.29</td>\n",
              "      <td>14.34</td>\n",
              "      <td>135.10</td>\n",
              "      <td>1297.0</td>\n",
              "      <td>0.10030</td>\n",
              "      <td>0.13280</td>\n",
              "      <td>0.1980</td>\n",
              "      <td>0.10430</td>\n",
              "      <td>0.1809</td>\n",
              "      <td>0.05883</td>\n",
              "      <td>0.7572</td>\n",
              "      <td>0.7813</td>\n",
              "      <td>5.438</td>\n",
              "      <td>94.44</td>\n",
              "      <td>0.011490</td>\n",
              "      <td>0.02461</td>\n",
              "      <td>0.05688</td>\n",
              "      <td>0.01885</td>\n",
              "      <td>0.01756</td>\n",
              "      <td>0.005115</td>\n",
              "      <td>22.54</td>\n",
              "      <td>16.67</td>\n",
              "      <td>152.20</td>\n",
              "      <td>1575.0</td>\n",
              "      <td>0.1374</td>\n",
              "      <td>0.2050</td>\n",
              "      <td>0.4000</td>\n",
              "      <td>0.1625</td>\n",
              "      <td>0.2364</td>\n",
              "      <td>0.07678</td>\n",
              "    </tr>\n",
              "  </tbody>\n",
              "</table>\n",
              "</div>"
            ],
            "text/plain": [
              "   mean radius  mean texture  ...  worst symmetry  worst fractal dimension\n",
              "0        17.99         10.38  ...          0.4601                  0.11890\n",
              "1        20.57         17.77  ...          0.2750                  0.08902\n",
              "2        19.69         21.25  ...          0.3613                  0.08758\n",
              "3        11.42         20.38  ...          0.6638                  0.17300\n",
              "4        20.29         14.34  ...          0.2364                  0.07678\n",
              "\n",
              "[5 rows x 30 columns]"
            ]
          },
          "metadata": {
            "tags": []
          },
          "execution_count": 2
        }
      ]
    },
    {
      "cell_type": "code",
      "metadata": {
        "id": "3I9viNek55-0",
        "colab_type": "code",
        "outputId": "77cf993f-8419-441b-872d-bc8fe4c7b078",
        "colab": {
          "base_uri": "https://localhost:8080/",
          "height": 34
        }
      },
      "source": [
        "print('Size of the matrix: ({0}, {1})'.format(len(df.index), len(df.columns)))"
      ],
      "execution_count": 0,
      "outputs": [
        {
          "output_type": "stream",
          "text": [
            "Size of the matrix: (569, 30)\n"
          ],
          "name": "stdout"
        }
      ]
    },
    {
      "cell_type": "markdown",
      "metadata": {
        "id": "WYW6hWYn1CtO",
        "colab_type": "text"
      },
      "source": [
        "# **Problem 1**\n"
      ]
    },
    {
      "cell_type": "markdown",
      "metadata": {
        "id": "tioZHIY61Ibk",
        "colab_type": "text"
      },
      "source": [
        "### 1. PCA"
      ]
    },
    {
      "cell_type": "code",
      "metadata": {
        "id": "0ZldvK2h7vhV",
        "colab_type": "code",
        "colab": {}
      },
      "source": [
        "from sklearn.preprocessing import StandardScaler"
      ],
      "execution_count": 0,
      "outputs": []
    },
    {
      "cell_type": "code",
      "metadata": {
        "id": "tvBRJWjg1K17",
        "colab_type": "code",
        "colab": {}
      },
      "source": [
        "def PCA(input_data,num_comp):\n",
        "  # standarize\n",
        "  data_stand = StandardScaler().fit_transform(input_data.data)\n",
        "  # calculate eigenvectors\n",
        "  u,s,vh = np.linalg.svd(data_stand.T)\n",
        "  return u.T[0:num_comp], data_stand"
      ],
      "execution_count": 0,
      "outputs": []
    },
    {
      "cell_type": "code",
      "metadata": {
        "id": "VVFuGSCl7reb",
        "colab_type": "code",
        "colab": {}
      },
      "source": [
        "eigenVectors, data_std = PCA(data,2)"
      ],
      "execution_count": 0,
      "outputs": []
    },
    {
      "cell_type": "code",
      "metadata": {
        "id": "mMcAn4H4_e8a",
        "colab_type": "code",
        "colab": {}
      },
      "source": [
        "# multiply the original dataset with eigenvector\n",
        "product = np.dot(data_std, eigenVectors.T)"
      ],
      "execution_count": 0,
      "outputs": []
    },
    {
      "cell_type": "markdown",
      "metadata": {
        "id": "-kySnJlW8uVG",
        "colab_type": "text"
      },
      "source": [
        "### 2.\n",
        "Two pre-processing steps used are:  \n",
        "- Shift mean to 0  \n",
        "- Range normalize to 1\n"
      ]
    },
    {
      "cell_type": "markdown",
      "metadata": {
        "id": "RoRoOQqu9R08",
        "colab_type": "text"
      },
      "source": [
        "### 3. Plot in 2-D"
      ]
    },
    {
      "cell_type": "code",
      "metadata": {
        "id": "-cLWceSF9nrA",
        "colab_type": "code",
        "outputId": "a1f77169-600d-4718-b519-9a2a8215c01e",
        "colab": {
          "base_uri": "https://localhost:8080/",
          "height": 374
        }
      },
      "source": [
        "labels = set(data['target'])\n",
        "label_dict={\n",
        "    0:'malignant',\n",
        "    1:'benign'\n",
        "}\n",
        "\n",
        "plt.figure(figsize=(10,6))\n",
        "for i in labels:\n",
        "  plt.plot(product[data.target==i,0], product[data.target==i,1], 'o', label=label_dict[i])\n",
        "\n",
        "plt.legend(['malignant', 'benign'])\n",
        "plt.show()"
      ],
      "execution_count": 0,
      "outputs": [
        {
          "output_type": "display_data",
          "data": {
            "image/png": "[encoded data removed]",
            "text/plain": [
              "<Figure size 720x432 with 1 Axes>"
            ]
          },
          "metadata": {
            "tags": []
          }
        }
      ]
    },
    {
      "cell_type": "markdown",
      "metadata": {
        "id": "ES5QMSYOH9r_",
        "colab_type": "text"
      },
      "source": [
        "# **Problem 2**"
      ]
    },
    {
      "cell_type": "markdown",
      "metadata": {
        "id": "U6yrNi7NIVQP",
        "colab_type": "text"
      },
      "source": [
        "### 1. Implement k-Means"
      ]
    },
    {
      "cell_type": "code",
      "metadata": {
        "id": "2A7lD9nXIEM4",
        "colab_type": "code",
        "colab": {}
      },
      "source": [
        "# This function returns the distance between two points\n",
        "def distance(point1, point2):\n",
        "  point1 = np.array(point1)\n",
        "  point2 = np.array(point2)\n",
        "  dist = np.sqrt(np.sum(np.power(point1-point2, 2)))\n",
        "  return dist\n",
        "\n",
        "def k_means(input_data, k, max_iter):\n",
        "  # generate k centroid as starting points\n",
        "  centroid = []\n",
        "  for i in range(k):\n",
        "    # centroid.append(np.random.uniform(np.min(input_data),np.max(input_data),len(input_data[0])))\n",
        "    centroid.append(input_data[i])\n",
        "  for _ in range(max_iter):  # iteration\n",
        "    sum_dist = 0\n",
        "    # calculate distance of each point to each centroid and assign class\n",
        "    point_class = np.zeros(len(input_data),dtype=np.int)\n",
        "    for i in range(len(input_data)):\n",
        "      min_dist = np.Inf\n",
        "      for j in range(k):\n",
        "        point_dist = distance(centroid[j],input_data[i])\n",
        "        if point_dist < min_dist:\n",
        "          min_dist = point_dist\n",
        "          point_min = j\n",
        "      sum_dist = sum_dist + min_dist**2  # calculate distortion\n",
        "      point_class[i] = point_min\n",
        "    # update centroid positions\n",
        "    for i in range(len(centroid)):\n",
        "      centroid[i] = np.mean(input_data[point_class==i], axis=0)\n",
        "  print('-----finished ', k)\n",
        "  print(sum_dist)\n",
        "\n",
        "  return centroid, point_class, sum_dist"
      ],
      "execution_count": 0,
      "outputs": []
    },
    {
      "cell_type": "code",
      "metadata": {
        "id": "D11y8nHQOrnd",
        "colab_type": "code",
        "outputId": "b910e919-8ff3-4b17-f288-96db0fc280e8",
        "colab": {
          "base_uri": "https://localhost:8080/",
          "height": 235
        }
      },
      "source": [
        "data_stand = StandardScaler().fit_transform(data.data)\n",
        "a,b,c = k_means(data_stand,2,1000)\n",
        "print('Final Centroid:', a)"
      ],
      "execution_count": 0,
      "outputs": [
        {
          "output_type": "stream",
          "text": [
            "-----finished  2\n",
            "11595.683312822128\n",
            "Final Centroid: [array([0.98649786, 0.49202131, 1.01866689, 0.97479724, 0.5871176 ,\n",
            "       1.014073  , 1.14492245, 1.17028266, 0.60339021, 0.22927434,\n",
            "       0.86311672, 0.04416341, 0.86446528, 0.8137762 , 0.01228944,\n",
            "       0.69281919, 0.63976499, 0.77166695, 0.13798752, 0.40384985,\n",
            "       1.05221312, 0.51705679, 1.07769473, 1.01391704, 0.59804381,\n",
            "       0.95285513, 1.05144274, 1.15328841, 0.5994129 , 0.61362004]), array([-0.48677585, -0.24278217, -0.50264928, -0.48100231, -0.28970632,\n",
            "       -0.50038248, -0.56494861, -0.57746231, -0.29773585, -0.11313275,\n",
            "       -0.42589487, -0.02179192, -0.4265603 , -0.40154836, -0.00606408,\n",
            "       -0.34186354, -0.31568456, -0.38077004, -0.06808833, -0.19927499,\n",
            "       -0.51920227, -0.25513563, -0.53177588, -0.50030552, -0.29509774,\n",
            "       -0.47017523, -0.51882214, -0.56907669, -0.29577329, -0.30278364])]\n"
          ],
          "name": "stdout"
        }
      ]
    },
    {
      "cell_type": "markdown",
      "metadata": {
        "id": "Ou7OAVfgoiS3",
        "colab_type": "text"
      },
      "source": [
        "### 2. Plot Distortion"
      ]
    },
    {
      "cell_type": "code",
      "metadata": {
        "id": "XDLaP4v6pf2E",
        "colab_type": "code",
        "outputId": "96a95b04-c0e4-44a6-bfa7-448b12e927a7",
        "colab": {
          "base_uri": "https://localhost:8080/",
          "height": 218
        }
      },
      "source": [
        "# calculate distortion\n",
        "dist = []\n",
        "for i in range(2,8):\n",
        "  a,b,c = k_means(data_stand,i,1000)\n",
        "  dist.append(c)"
      ],
      "execution_count": 0,
      "outputs": [
        {
          "output_type": "stream",
          "text": [
            "-----finished  2\n",
            "11595.683312822128\n",
            "-----finished  3\n",
            "10061.797818243695\n",
            "-----finished  4\n",
            "9266.154235789782\n",
            "-----finished  5\n",
            "8562.873570667625\n",
            "-----finished  6\n",
            "8332.237809586446\n",
            "-----finished  7\n",
            "7690.390940644321\n"
          ],
          "name": "stdout"
        }
      ]
    },
    {
      "cell_type": "code",
      "metadata": {
        "id": "XFj3Qug4vn6x",
        "colab_type": "code",
        "outputId": "a19902ff-063b-4384-bc5a-7865adbb8ebb",
        "colab": {
          "base_uri": "https://localhost:8080/",
          "height": 388
        }
      },
      "source": [
        "# plot distortion\n",
        "plt.figure(figsize=(10,6))\n",
        "plt.plot(np.arange(2,8),dist)\n",
        "plt.xlabel('number of clusters')\n",
        "plt.ylabel('distortion')\n",
        "plt.show()"
      ],
      "execution_count": 0,
      "outputs": [
        {
          "output_type": "display_data",
          "data": {
            "image/png": "[encoded data removed]",
            "text/plain": [
              "<Figure size 720x432 with 1 Axes>"
            ]
          },
          "metadata": {
            "tags": []
          }
        }
      ]
    },
    {
      "cell_type": "markdown",
      "metadata": {
        "id": "Oc15NVl-97DO",
        "colab_type": "text"
      },
      "source": [
        "### 3. \n",
        "The slope of the distortion vs. number of clusters plot decreases at 3, therefore, the optimal number of clusters is 3. "
      ]
    },
    {
      "cell_type": "markdown",
      "metadata": {
        "id": "cGRm8_X9_9_H",
        "colab_type": "text"
      },
      "source": [
        "### 4. PCA\n"
      ]
    },
    {
      "cell_type": "code",
      "metadata": {
        "id": "iWWPcLN5AZCM",
        "colab_type": "code",
        "colab": {}
      },
      "source": [
        "from sklearn.preprocessing import StandardScaler"
      ],
      "execution_count": 0,
      "outputs": []
    },
    {
      "cell_type": "code",
      "metadata": {
        "id": "ZgTNyyeiAL_P",
        "colab_type": "code",
        "outputId": "41b1c132-5f6d-455b-c85e-0733e840568b",
        "colab": {
          "base_uri": "https://localhost:8080/",
          "height": 319
        }
      },
      "source": [
        "# standardize\n",
        "data_stand = StandardScaler().fit_transform(data.data)\n",
        "a,b,c = k_means(data_stand,3,1000)\n",
        "print('Final Centroid:', a)"
      ],
      "execution_count": 0,
      "outputs": [
        {
          "output_type": "stream",
          "text": [
            "-----finished  3\n",
            "10061.797818243695\n",
            "Final Centroid: [array([ 1.61908207,  0.62661289,  1.6240009 ,  1.66315361,  0.39856469,\n",
            "        0.93061442,  1.23933718,  1.48697008,  0.43217049, -0.2869193 ,\n",
            "        1.44128466,  0.0938201 ,  1.40538059,  1.42350487, -0.07267167,\n",
            "        0.47907229,  0.43975291,  0.78783453,  0.05442714,  0.11903767,\n",
            "        1.66674915,  0.54289966,  1.65684176,  1.68494744,  0.33688865,\n",
            "        0.67029147,  0.88661143,  1.27318238,  0.30034644,  0.08406585]), array([-0.44809508, -0.2418554 , -0.46954224, -0.44831604, -0.358676  ,\n",
            "       -0.57356749, -0.59729151, -0.59473375, -0.34211158, -0.24188587,\n",
            "       -0.41793414, -0.03526589, -0.42565126, -0.38816111, -0.10019852,\n",
            "       -0.44614655, -0.38279548, -0.45090772, -0.09646964, -0.32238413,\n",
            "       -0.48612661, -0.25310785, -0.50571337, -0.47269217, -0.37318328,\n",
            "       -0.534009  , -0.56276526, -0.59707489, -0.31763162, -0.41144444]), array([-0.17232895,  0.17898672, -0.10074437, -0.22001438,  0.84922567,\n",
            "        1.03543143,  0.78100563,  0.49942706,  0.75279302,  1.18398151,\n",
            "       -0.08502958,  0.02340245, -0.01783062, -0.17235697,  0.43965152,\n",
            "        1.07468661,  0.89050757,  0.75214074,  0.28645615,  1.0264176 ,\n",
            "       -0.08822954,  0.31146754, -0.00701494, -0.15647731,  0.96915045,\n",
            "        1.17977172,  1.0450547 ,  0.74299822,  0.80991644,  1.38461312])]\n"
          ],
          "name": "stdout"
        }
      ]
    },
    {
      "cell_type": "code",
      "metadata": {
        "id": "Fgv8famOAdi1",
        "colab_type": "code",
        "colab": {}
      },
      "source": [
        "def PCA(input_data,num_comp):\n",
        "  # standarize\n",
        "  data_stand = StandardScaler().fit_transform(input_data)\n",
        "  # calculate eigenvectors\n",
        "  u,s,vh = np.linalg.svd(data_stand.T)\n",
        "  return u.T[0:num_comp], data_stand"
      ],
      "execution_count": 0,
      "outputs": []
    },
    {
      "cell_type": "code",
      "metadata": {
        "id": "uyN8Q4N3AoWC",
        "colab_type": "code",
        "colab": {}
      },
      "source": [
        "eigenVectors_cl, data_std_cl = PCA(data.data,2)\n",
        "product_cl = np.dot(data_std_cl, eigenVectors.T)\n",
        "eigenVectors_cen, data_std_cen = PCA(a,2)\n",
        "product_cen = np.dot(data_std_cen, eigenVectors.T)"
      ],
      "execution_count": 0,
      "outputs": []
    },
    {
      "cell_type": "markdown",
      "metadata": {
        "id": "7hHQQ1LCKI_8",
        "colab_type": "text"
      },
      "source": [
        "### 5. Plot"
      ]
    },
    {
      "cell_type": "code",
      "metadata": {
        "id": "q-lmiMzzAxip",
        "colab_type": "code",
        "outputId": "97d40c8c-8db5-4cfe-a644-59b15983d84d",
        "colab": {
          "base_uri": "https://localhost:8080/",
          "height": 553
        }
      },
      "source": [
        "labels = set(b)\n",
        "label_dict={\n",
        "    0:'cluster 0',\n",
        "    1:'cluster 1',\n",
        "    2:'cluster 2'\n",
        "}\n",
        "\n",
        "plt.figure(figsize=(15,9))\n",
        "for i in labels:\n",
        "  plt.title('Clustering with k=3')\n",
        "  fig1 = plt.plot(product_cl[b==i,0], product_cl[b==i,1], 'o', label=label_dict[i])\n",
        "  fig2 = plt.plot(product_cen[:,0], product_cen[:,1], '^', markersize = 15, markerfacecolor = 'red')\n",
        "  \n",
        "plt.show()"
      ],
      "execution_count": 0,
      "outputs": [
        {
          "output_type": "display_data",
          "data": {
            "image/png": "[encoded data removed]",
            "text/plain": [
              "<Figure size 1080x648 with 1 Axes>"
            ]
          },
          "metadata": {
            "tags": []
          }
        }
      ]
    },
    {
      "cell_type": "markdown",
      "metadata": {
        "colab_type": "text",
        "id": "j8kvKf9bt3PA"
      },
      "source": [
        "# **Problem 3**"
      ]
    },
    {
      "cell_type": "markdown",
      "metadata": {
        "id": "NKOvJpkGt4ci",
        "colab_type": "text"
      },
      "source": [
        "### 1. \n",
        "The proposed train/test split is 7:3."
      ]
    },
    {
      "cell_type": "code",
      "metadata": {
        "id": "wMCyLrXA8jr6",
        "colab_type": "code",
        "colab": {}
      },
      "source": [
        "from sklearn.model_selection import train_test_split"
      ],
      "execution_count": 0,
      "outputs": []
    },
    {
      "cell_type": "code",
      "metadata": {
        "id": "wAn7JPW19DWt",
        "colab_type": "code",
        "colab": {}
      },
      "source": [
        "# use standardized input\n",
        "X, X_test, Y, Y_test = train_test_split(StandardScaler().fit_transform(data.data), data.target, test_size=0.3, random_state=1)"
      ],
      "execution_count": 0,
      "outputs": []
    },
    {
      "cell_type": "markdown",
      "metadata": {
        "id": "F8V0oxX3t98-",
        "colab_type": "text"
      },
      "source": [
        "### 2.\n",
        "Linear regression doesn't need validation set because there is no hyper-parameter to tune. "
      ]
    },
    {
      "cell_type": "markdown",
      "metadata": {
        "id": "RSDVG6WauLR_",
        "colab_type": "text"
      },
      "source": [
        "### 3.\n",
        "![alt text](https://drive.google.com/uc?id=1EfzGQfNK7x4GUPUJyeaIwdgxI37EtJG1)\n"
      ]
    },
    {
      "cell_type": "markdown",
      "metadata": {
        "id": "HE2p2K4J4yBX",
        "colab_type": "text"
      },
      "source": [
        "### 4."
      ]
    },
    {
      "cell_type": "code",
      "metadata": {
        "id": "-dPFtmUI40hu",
        "colab_type": "code",
        "outputId": "a9fc2013-b4a2-4968-e91d-44b6f08fe7a6",
        "colab": {
          "base_uri": "https://localhost:8080/",
          "height": 151
        }
      },
      "source": [
        "w = np.dot(np.linalg.inv((np.dot(np.transpose(X),X))),np.dot(np.transpose(X),Y))\n",
        "w"
      ],
      "execution_count": 0,
      "outputs": [
        {
          "output_type": "execute_result",
          "data": {
            "text/plain": [
              "array([ 1.95425420e+00,  2.09906859e-01, -2.27203240e+00,  2.09955229e-01,\n",
              "       -2.56269799e-02,  1.84796111e-01,  1.59261326e-02, -1.10688634e-01,\n",
              "        1.69004544e-02,  5.74309003e-02, -9.30339155e-02,  7.49832513e-02,\n",
              "       -1.48450262e-02,  6.68130511e-02, -1.15640648e-01,  5.65366705e-02,\n",
              "        7.79388024e-02, -8.47106355e-02, -9.68848731e-02,  7.94042350e-02,\n",
              "       -9.36255100e-01, -3.10648736e-01,  3.99038183e-01,  4.11419229e-01,\n",
              "        1.06590092e-01,  1.87777366e-01, -2.64510389e-01, -1.78327628e-03,\n",
              "       -7.06344584e-02, -2.30309350e-01])"
            ]
          },
          "metadata": {
            "tags": []
          },
          "execution_count": 16
        }
      ]
    },
    {
      "cell_type": "markdown",
      "metadata": {
        "id": "swCc5NEh8LIT",
        "colab_type": "text"
      },
      "source": [
        "### 5."
      ]
    },
    {
      "cell_type": "code",
      "metadata": {
        "id": "uIfSX2Zt8OYl",
        "colab_type": "code",
        "outputId": "e75cfe55-2aae-4c44-a383-eb57b772c8a5",
        "colab": {
          "base_uri": "https://localhost:8080/",
          "height": 50
        }
      },
      "source": [
        "def predict_lin(X,Y):\n",
        "  # predict\n",
        "  g = np.dot(X,w)\n",
        "  # sigmoid\n",
        "  g_sig = 1/(1 + np.exp(-g)) \n",
        "  # condition check\n",
        "  result = []\n",
        "  for i in range(len(g_sig)):\n",
        "    if g_sig[i] >= 0.5:\n",
        "      result.append(1)\n",
        "    else:\n",
        "      result.append(0)\n",
        "  # report accuracy\n",
        "  correct = 0\n",
        "  for i in range(len(Y)):\n",
        "    if Y[i] == result[i]:\n",
        "      correct = correct + 1\n",
        "  acc = correct/len(Y)\n",
        "  return acc,result\n",
        "\n",
        "print('Train Set Accuracy:', predict_lin(X,Y)[0])\n",
        "print('Test Set Accuracy:', predict_lin(X_test,Y_test)[0])"
      ],
      "execution_count": 0,
      "outputs": [
        {
          "output_type": "stream",
          "text": [
            "Train Set Accuracy: 0.9673366834170855\n",
            "Test Set Accuracy: 0.8947368421052632\n"
          ],
          "name": "stdout"
        }
      ]
    },
    {
      "cell_type": "markdown",
      "metadata": {
        "id": "mSzmTHX_BhNE",
        "colab_type": "text"
      },
      "source": [
        "### 6."
      ]
    },
    {
      "cell_type": "code",
      "metadata": {
        "id": "9DTcJF17AMk2",
        "colab_type": "code",
        "outputId": "0a8139f1-7f4e-4f95-a4dc-55595d457c86",
        "colab": {
          "base_uri": "https://localhost:8080/",
          "height": 374
        }
      },
      "source": [
        "# make prediction on the entire dataset\n",
        "data_stand = StandardScaler().fit_transform(data.data)\n",
        "pred = predict_lin(data_stand,data.target)[1]\n",
        "\n",
        "# plot\n",
        "labels = set(data['target'])\n",
        "label_dict={\n",
        "    0:'malignant',\n",
        "    1:'benign'\n",
        "}\n",
        "\n",
        "plt.figure(figsize=(10,6))\n",
        "for i in labels:\n",
        "  plt.plot(product[pred==i,0], product[pred==i,1], 'o', label=label_dict[i])\n",
        "\n",
        "plt.legend(['malignant', 'benign'])\n",
        "plt.show()"
      ],
      "execution_count": 0,
      "outputs": [
        {
          "output_type": "display_data",
          "data": {
            "image/png": "[encoded data removed]",
            "text/plain": [
              "<Figure size 720x432 with 1 Axes>"
            ]
          },
          "metadata": {
            "tags": []
          }
        }
      ]
    },
    {
      "cell_type": "markdown",
      "metadata": {
        "id": "6P5jotLerDnU",
        "colab_type": "text"
      },
      "source": [
        "# **Problem 4**"
      ]
    },
    {
      "cell_type": "markdown",
      "metadata": {
        "id": "A2Zm2pI-VtjP",
        "colab_type": "text"
      },
      "source": [
        "### 1.\n",
        "It is not necessary to fine tune the learning rate since the second moment will balance the step size automatically. If the step size is too large, the second moment will increase and the step size will decrease. If the step size is too small, the second moment will decrease and the step size will increase."
      ]
    },
    {
      "cell_type": "markdown",
      "metadata": {
        "id": "a-PBhRteYyUY",
        "colab_type": "text"
      },
      "source": [
        "### 2.\n",
        "Mini-batch should be used since SGD does not provide optimal performance, while batch GD will result in OOM (out of memory). The number of data passed per mini-batch should be the maximum amount of data that does not cause OOM."
      ]
    },
    {
      "cell_type": "markdown",
      "metadata": {
        "id": "J4GI1O4vZWI-",
        "colab_type": "text"
      },
      "source": [
        "### 3.\n",
        "Mini-batch should be used. The mini-batch size should utilize the entire memory of each GPU. The mean of the the syncronized output gradient from each GPU should be calculated to update the parameter. "
      ]
    },
    {
      "cell_type": "markdown",
      "metadata": {
        "id": "qGsPR5HFGBgF",
        "colab_type": "text"
      },
      "source": [
        "# **Problem 5**\n"
      ]
    },
    {
      "cell_type": "markdown",
      "metadata": {
        "id": "3hPZmfLSKUBR",
        "colab_type": "text"
      },
      "source": [
        "### 1.\n",
        "The training process has several issues:  \n",
        "1. For MNIST dataset, single hidden layer with five neurons is not sufficient.  \n",
        "2. Momentum should not be set to 0  \n",
        "3. Three hyper-parameters are tuned seperately with different dataset. Optimal performance is not guaranteed. The proper way is to grid-search on the entire training dataset and find the optimal combination of hyper-parameters.  \n",
        "4. Cross-validation is suggested to prevent over-fitting"
      ]
    },
    {
      "cell_type": "markdown",
      "metadata": {
        "id": "r6a2U1pzNbkZ",
        "colab_type": "text"
      },
      "source": [
        "### 2.\n",
        "Confusion matrix is preferable since it presents the bias of the prediction. For example, when classifying a group of 80 female and 20 male, the algorithm is extremely bad that predict everything as female. By looking at the accuracy, the result can be as high as 80%. However, when looking at the confusion matrix, we can tell that the algorithm actually perform badly."
      ]
    },
    {
      "cell_type": "markdown",
      "metadata": {
        "id": "J56XkSDkQ0Ve",
        "colab_type": "text"
      },
      "source": [
        "### 3.\n"
      ]
    },
    {
      "cell_type": "code",
      "metadata": {
        "id": "ax4N0ox4RFoH",
        "colab_type": "code",
        "colab": {}
      },
      "source": [
        "# the following function returns the bias. True label Y and predicted label 'prediction' are passed in to the function.\n",
        "def get_bias(Y,prediction):\n",
        "  bias = abs(np.mean(prediction) - np.mean(Y))\n",
        "  return bias\n",
        "\n",
        "# the following function returns the variance. The predicted label 'prediction' is passed in to the function\n",
        "def get_var(prediction):\n",
        "  var = np.mean((prediction - np.mean(prediction))**2)\n",
        "  return var"
      ],
      "execution_count": 0,
      "outputs": []
    }
  ]
}